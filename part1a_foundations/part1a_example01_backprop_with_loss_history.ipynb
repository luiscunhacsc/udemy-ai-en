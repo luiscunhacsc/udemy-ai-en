{
  "cells": [
    {
      "cell_type": "markdown",
      "metadata": {
        "id": "view-in-github",
        "colab_type": "text"
      },
      "source": [
        "<a href=\"https://colab.research.google.com/github/luiscunhacsc/udemy-ai-en/blob/main/part1a_foundations/part1a_example01_backprop_with_loss_history.ipynb\" target=\"_parent\"><img src=\"https://colab.research.google.com/assets/colab-badge.svg\" alt=\"Open In Colab\"/></a>"
      ]
    },
    {
      "cell_type": "markdown",
      "id": "d87b9c27",
      "metadata": {
        "id": "d87b9c27"
      },
      "source": [
        "# Neural Network Backpropagation Example\n",
        "\n",
        "This notebook demonstrates a simple implementation of a neural network with backpropagation. The example includes defining the sigmoid activation function, initializing weights, and training the network over a specified number of epochs. Let's go through the implementation step by step.\n"
      ]
    },
    {
      "cell_type": "markdown",
      "id": "b3a0c787",
      "metadata": {
        "id": "b3a0c787"
      },
      "source": [
        "## Installing Necessary Libraries\n",
        "\n",
        "Before we begin, we need to ensure that the necessary libraries are installed. This includes `numpy` for numerical computations.\n"
      ]
    },
    {
      "cell_type": "code",
      "execution_count": 5,
      "id": "6ecee969",
      "metadata": {
        "id": "6ecee969"
      },
      "outputs": [],
      "source": [
        "# Install numpy\n",
        "%pip install -q numpy\n"
      ]
    },
    {
      "cell_type": "markdown",
      "id": "d64f89bb",
      "metadata": {
        "id": "d64f89bb"
      },
      "source": [
        "## Defining the Sigmoid Function\n",
        "\n",
        "The sigmoid function is used as the activation function in our neural network. We also define its derivative, which is necessary for the backpropagation step.\n"
      ]
    },
    {
      "cell_type": "code",
      "execution_count": 6,
      "id": "e37bb2e1",
      "metadata": {
        "id": "e37bb2e1"
      },
      "outputs": [],
      "source": [
        "import numpy as np\n",
        "\n",
        "# Define the sigmoid function\n",
        "def sigmoid(x):\n",
        "    return 1 / (1 + np.exp(-x))\n",
        "\n",
        "def sigmoid_derivative(x):\n",
        "    return x * (1 - x)\n"
      ]
    },
    {
      "cell_type": "markdown",
      "id": "4f842f41",
      "metadata": {
        "id": "4f842f41"
      },
      "source": [
        "## Initializing Inputs, Outputs, and Weights\n",
        "\n",
        "We initialize the input values, expected output values, and the initial weights for both the hidden and output layers. Additionally, we set the learning rate and the number of training epochs.\n"
      ]
    },
    {
      "cell_type": "markdown",
      "id": "0a26c7b3",
      "metadata": {
        "id": "0a26c7b3"
      },
      "source": [
        "<img src=\"https://github.com/luiscunhacsc/udemy-ai-en/blob/main/part1a_foundations/images_for_part1a_code/sample_network_part1a.png?raw=1\" alt=\"Image of the network used in the code\" width=\"700\"/>\n",
        "\n"
      ]
    },
    {
      "cell_type": "code",
      "execution_count": 7,
      "id": "e15017ec",
      "metadata": {
        "id": "e15017ec"
      },
      "outputs": [],
      "source": [
        "# Input values\n",
        "inputs = np.array([[0.5, 0.9, -0.3]])  # Reshape to 1x3 for matrix multiplication\n",
        "\n",
        "# Expected output values (ground truth)\n",
        "expected_output = np.array([[0.9, 0.3]])  # Reshape to 1x2 for matrix multiplication\n",
        "\n",
        "# Initial weights for the hidden layer\n",
        "weights_hidden = np.array([[1.0, -2.0, 2.0],   # weights from input to hidden layer neurons\n",
        "                           [2.0, 1.0, -4.0],   # weights from input to hidden layer neurons\n",
        "                           [1.0, -1.0, 0.0]])  # weights from input to hidden layer neurons\n",
        "\n",
        "# Initial weights for the output layer\n",
        "weights_output = np.array([[-3.0, 1.0, -3.0],  # weights from hidden to output layer neurons\n",
        "                           [0.0, 1.0, 2.0]])   # weights from hidden to output layer neurons\n",
        "\n",
        "# Learning rate\n",
        "learning_rate = 0.1\n",
        "\n",
        "# Number of training epochs\n",
        "epochs = 1000\n"
      ]
    },
    {
      "cell_type": "markdown",
      "id": "8eff37c5",
      "metadata": {
        "id": "8eff37c5"
      },
      "source": [
        "## Training the Neural Network\n",
        "\n",
        "We train the neural network using forward propagation to calculate the output and backpropagation to update the weights. The training process runs for the specified number of epochs, and we print the loss every 10% of the epochs to monitor the training progress.\n"
      ]
    },
    {
      "cell_type": "code",
      "execution_count": 8,
      "id": "c875f5ee",
      "metadata": {
        "id": "c875f5ee"
      },
      "outputs": [],
      "source": [
        "# Initialize loss history\n",
        "loss_history = []\n",
        "\n",
        "# Training loop\n",
        "for epoch in range(epochs):\n",
        "    # Forward pass\n",
        "    hidden_layer_input = np.dot(inputs, weights_hidden)\n",
        "    hidden_layer_output = sigmoid(hidden_layer_input)\n",
        "\n",
        "    output_layer_input = np.dot(hidden_layer_output, weights_output.T)  # Transpose weights_output\n",
        "    final_output = sigmoid(output_layer_input)\n",
        "\n",
        "    # Calculate the loss (Mean Squared Error)\n",
        "    loss = np.mean((expected_output - final_output) ** 2)\n",
        "    loss_history.append(loss)\n",
        "\n",
        "    # Backward pass\n",
        "    error_output_layer = expected_output - final_output\n",
        "    d_output_layer = error_output_layer * sigmoid_derivative(final_output)\n",
        "\n",
        "    error_hidden_layer = np.dot(d_output_layer, weights_output)\n",
        "    d_hidden_layer = error_hidden_layer * sigmoid_derivative(hidden_layer_output)\n",
        "\n",
        "    # Update weights\n",
        "    weights_output += learning_rate * np.dot(d_output_layer.T, hidden_layer_output)\n",
        "    weights_hidden += learning_rate * np.dot(d_hidden_layer.T, inputs)\n",
        "\n"
      ]
    },
    {
      "cell_type": "markdown",
      "id": "0daff1dd",
      "metadata": {
        "id": "0daff1dd"
      },
      "source": [
        "## Final Results\n",
        "\n",
        "After training, we print the final weights of the hidden and output layers, as well as the expected and obtained final output values.\n"
      ]
    },
    {
      "cell_type": "code",
      "execution_count": 9,
      "id": "c7ad805f",
      "metadata": {
        "id": "c7ad805f",
        "outputId": "7287e220-313b-410e-c779-0c4b3bff9fe8",
        "colab": {
          "base_uri": "https://localhost:8080/"
        }
      },
      "outputs": [
        {
          "output_type": "stream",
          "name": "stdout",
          "text": [
            "\n",
            "\n",
            "Results after training with 1000 epochs: \n",
            "\n",
            "Final weights of the hidden layer: \n",
            "[[ 0.78948654 -2.37892424  2.12630808]\n",
            " [ 2.58580962  2.05445731 -4.35148577]\n",
            " [ 0.65216893 -1.62609593  0.20869864]]\n",
            "\n",
            "Final weights of the output layer: \n",
            "[[-0.15209276  2.99244134 -2.80184531]\n",
            " [-1.18416067  0.20071926  1.91416026]]\n",
            "\n",
            "\n",
            "Expected final values (output): [[0.9 0.3]]\n",
            "Obtained final values (output): [[0.87933997 0.3003187 ]]\n",
            "\n",
            "\n"
          ]
        }
      ],
      "source": [
        "# Print final results\n",
        "print(f\"\\n\\nResults after training with {epochs} epochs: \")\n",
        "print(f\"\\nFinal weights of the hidden layer: \\n{weights_hidden}\")\n",
        "print(f\"\\nFinal weights of the output layer: \\n{weights_output}\")\n",
        "print(f\"\\n\\nExpected final values (output): {expected_output}\")\n",
        "print(f\"Obtained final values (output): {final_output}\")\n",
        "print(f\"\\n\")\n"
      ]
    },
    {
      "cell_type": "code",
      "execution_count": 10,
      "id": "5efef11b",
      "metadata": {
        "id": "5efef11b",
        "outputId": "33b55764-5bc0-40a0-827b-60870974dee3",
        "colab": {
          "base_uri": "https://localhost:8080/",
          "height": 492
        }
      },
      "outputs": [
        {
          "output_type": "display_data",
          "data": {
            "text/plain": [
              "<Figure size 640x480 with 1 Axes>"
            ],
            "image/png": "[encoded data removed]"
          },
          "metadata": {}
        }
      ],
      "source": [
        "\n",
        "# Plot the loss after training\n",
        "import matplotlib.pyplot as plt\n",
        "\n",
        "# Assuming 'loss_history' is a list that stores the loss at each epoch\n",
        "plt.plot(loss_history)\n",
        "plt.title('Training Loss')\n",
        "plt.xlabel('Epoch')\n",
        "plt.ylabel('Loss')\n",
        "plt.show()\n"
      ]
    }
  ],
  "metadata": {
    "kernelspec": {
      "display_name": "Python 3",
      "language": "python",
      "name": "python3"
    },
    "language_info": {
      "codemirror_mode": {
        "name": "ipython",
        "version": 3
      },
      "file_extension": ".py",
      "mimetype": "text/x-python",
      "name": "python",
      "nbconvert_exporter": "python",
      "pygments_lexer": "ipython3",
      "version": "3.12.3"
    },
    "colab": {
      "provenance": [],
      "include_colab_link": true
    }
  },
  "nbformat": 4,
  "nbformat_minor": 5
}