{
    "cells": [
        {
            "cell_type": "markdown",
            "metadata": {
                "colab_type": "text",
                "id": "view-in-github"
            },
            "source": [
                "<a href=\"https://colab.research.google.com/github/luiscunhacsc/udemy-ai-en/blob/main/part1b_vision/part1b_example01_fashion_mnist.ipynb\" target=\"_parent\"><img src=\"https://colab.research.google.com/assets/colab-badge.svg\" alt=\"Open In Colab\"/></a>"
            ]
        },
        {
            "cell_type": "code",
            "execution_count": null,
            "metadata": {
                "colab": {
                    "base_uri": "https://localhost:8080/"
                },
                "id": "eitHS1BEHNsG",
                "outputId": "2395776a-5e84-4032-ebf5-789bccb25f87"
            },
            "outputs": [],
            "source": [
                "#Installation of libraries\n",
                "%pip install -q tensorflow keras numpy matplotlib\n"
            ]
        },
        {
            "cell_type": "markdown",
            "metadata": {
                "id": "AfW71O15X3gR"
            },
            "source": [
                "With the libraries installed, let's import them."
            ]
        },
        {
            "cell_type": "code",
            "execution_count": null,
            "metadata": {
                "id": "uwN56Ba_X4s0"
            },
            "outputs": [],
            "source": [
                "#Importing Libraries\n",
                "import tensorflow as tf\n",
                "from tensorflow import keras\n",
                "import numpy as np\n",
                "import matplotlib.pyplot as plt\n"
            ]
        },
        {
            "cell_type": "markdown",
            "metadata": {
                "id": "IsPj-7odYK-s"
            },
            "source": [
                "# Dataset Introduction\n",
                "\n",
                "The FashionMNIST dataset is a variant of the MNIST dataset, which is often used as the \"Hello, World!\" of Machine Learning. Instead of handwritten digits, FashionMNIST has grayscale images of 10 apparel categories. Each image has a low resolution (28 by 28 pixels). Let's load the dataset and see some examples."
            ]
        },
        {
            "cell_type": "code",
            "execution_count": null,
            "metadata": {
                "colab": {
                    "base_uri": "https://localhost:8080/",
                    "height": 861
                },
                "id": "RdxViJqlYMau",
                "outputId": "43fd395a-f295-418e-8e9f-22d0abcb7269"
            },
            "outputs": [],
            "source": [
                "# Cell 4: Load the dataset\n",
                "from tensorflow.keras.datasets import fashion_mnist\n",
                "\n",
                "(train_images, train_labels), (test_images, test_labels) = fashion_mnist.load_data()\n",
                "\n",
                "# Label mapping for class names\n",
                "class_names = ['T-shirt/top', 'Trouser', 'Pullover', 'Dress', 'Coat', 'Sandal', 'Shirt', 'Sneaker', 'Bag', 'Ankle boot']\n",
                "\n",
                "# Verify dataset format\n",
                "print(f\"Formato do conjunto de treino: {train_images.shape}, labels: {train_labels.shape}\")\n",
                "print(f\"Formato do conjunto de teste: {test_images.shape}, labels: {test_labels.shape}\")\n",
                "\n",
                "# Show the first 25 images of the training set\n",
                "plt.figure(figsize=(10,10))\n",
                "for i in range(25):\n",
                "    plt.subplot(5,5,i+1)\n",
                "    plt.xticks([])\n",
                "    plt.yticks([])\n",
                "    plt.grid(False)\n",
                "    plt.imshow(train_images[i], cmap=plt.cm.binary)\n",
                "    plt.xlabel(class_names[train_labels[i]])\n",
                "plt.show()\n",
                "\n"
            ]
        },
        {
            "cell_type": "markdown",
            "metadata": {
                "id": "q5oQ_YRNYdBB"
            },
            "source": [
                "# Introduction to model building\n",
                "Let's now create our convolutional neural network (CNN). A CNN is composed of a series of convolution and pooling layers, followed by dense layers that perform the final classification. Let's use the functional Keras API to build our model."
            ]
        },
        {
            "cell_type": "code",
            "execution_count": null,
            "metadata": {
                "colab": {
                    "base_uri": "https://localhost:8080/"
                },
                "id": "MAQX_oBoYgBB",
                "outputId": "58f58ef9-6f44-4288-a063-20a15b885ca2"
            },
            "outputs": [],
            "source": [
                "#Model building\n",
                "\n",
                "from tensorflow.keras.layers import Input, Conv2D, MaxPooling2D, Flatten, Dense\n",
                "from tensorflow.keras.models import Model\n",
                "\n",
                "# Normalize the data\n",
                "train_images = train_images / 255.0\n",
                "test_images = test_images / 255.0\n",
                "\n",
                "# Reshape images so they have a single color channel\n",
                "train_images = train_images.reshape(-1, 28, 28, 1)\n",
                "test_images = test_images.reshape(-1, 28, 28, 1)\n",
                "\n",
                "# Configure Input\n",
                "inputs = Input(shape=(28, 28, 1))\n",
                "\n",
                "# First layer of convolution and pooling\n",
                "x = Conv2D(filters=32, kernel_size=(3, 3), activation='relu')(inputs)\n",
                "x = MaxPooling2D(pool_size=(2, 2))(x)\n",
                "\n",
                "# Second layer of convolution and pooling\n",
                "x = Conv2D(filters=64, kernel_size=(3, 3), activation='relu')(x)\n",
                "x = MaxPooling2D(pool_size=(2, 2))(x)\n",
                "\n",
                "# Flattening the outlet to feed the dense layers\n",
                "x = Flatten()(x)\n",
                "\n",
                "# Dense layer and output layer\n",
                "x = Dense(128, activation='relu')(x)\n",
                "outputs = Dense(10, activation='softmax')(x)\n",
                "\n",
                "# Create the template\n",
                "model = Model(inputs=inputs, outputs=outputs)\n",
                "\n",
                "# Show template summary\n",
                "model.summary()\n",
                "\n"
            ]
        },
        {
            "cell_type": "markdown",
            "metadata": {
                "id": "REOIhDfEY6ie"
            },
            "source": [
                "# Model compilation\n",
                "\n",
                "Before we train the model, we need to compile it. During the build, we define the optimizer that will adjust the network weights during the workout, the loss function that will be minimized by the optimizer, and the metrics that we would like to track during the workout."
            ]
        },
        {
            "cell_type": "code",
            "execution_count": null,
            "metadata": {
                "id": "yC7Dw8_5Y9I_"
            },
            "outputs": [],
            "source": [
                "# Model compilation\n",
                "model.compile(optimizer='adam', loss='sparse_categorical_crossentropy', metrics=['accuracy'])\n"
            ]
        },
        {
            "cell_type": "markdown",
            "metadata": {
                "id": "5aYPcPQBZH_6"
            },
            "source": [
                "# Model training\n",
                "\n",
                "Let's now train the model. During training, the model will iterate multiple times (epochs) over the training set and adjust the net weights to minimize the loss function. After each season, we will validate the performance of the model in the test set."
            ]
        },
        {
            "cell_type": "code",
            "execution_count": null,
            "metadata": {
                "colab": {
                    "base_uri": "https://localhost:8080/"
                },
                "id": "WVjq1dEeZKNv",
                "outputId": "00b5d566-b7f3-482b-b8a3-212decc7d94a"
            },
            "outputs": [],
            "source": [
                "# Model training\n",
                "history = model.fit(train_images, train_labels, epochs=10, validation_data=(test_images, test_labels))\n"
            ]
        },
        {
            "cell_type": "markdown",
            "metadata": {
                "id": "4KReu8NZZjKK"
            },
            "source": [
                "# Model Performance View\n",
                "\n",
                "Let's now visualize the performance of our model over time during training. Let's create charts for accuracy and loss for both the training set and the test set."
            ]
        },
        {
            "cell_type": "code",
            "execution_count": null,
            "metadata": {
                "colab": {
                    "base_uri": "https://localhost:8080/",
                    "height": 408
                },
                "id": "wQUEtDT4ZmxN",
                "outputId": "19001f59-fc3a-45a9-864a-3ce58fe064ad"
            },
            "outputs": [],
            "source": [
                "# Model Performance View\n",
                "plt.figure(figsize=(12, 4))\n",
                "\n",
                "plt.subplot(1, 2, 1)\n",
                "plt.plot(history.history['accuracy'], label='Train Accuracy')\n",
                "plt.plot(history.history['val_accuracy'], label='Test Accuracy')\n",
                "plt.legend()\n",
                "plt.title('Accuracy evolution')\n",
                "\n",
                "plt.subplot(1, 2, 2)\n",
                "plt.plot(history.history['loss'], label='Train Loss')\n",
                "plt.plot(history.history['val_loss'], label='Test Loss')\n",
                "plt.legend()\n",
                "plt.title('Loss evolution')\n"
            ]
        }
    ],
    "metadata": {
        "accelerator": "GPU",
        "colab": {
            "gpuType": "T4",
            "include_colab_link": true,
            "provenance": []
        },
        "kernelspec": {
            "display_name": "Python 3",
            "name": "python3"
        },
        "language_info": {
            "name": "python"
        }
    },
    "nbformat": 4,
    "nbformat_minor": 0
}
