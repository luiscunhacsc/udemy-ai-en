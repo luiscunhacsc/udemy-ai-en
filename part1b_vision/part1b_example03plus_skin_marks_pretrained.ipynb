{
  "cells": [
    {
      "cell_type": "markdown",
      "metadata": {
        "colab_type": "text",
        "id": "view-in-github"
      },
      "source": [
        "<a href=\"https://colab.research.google.com/github/luiscunhacsc/udemy-ia-pt/blob/main/parte1b_visao/parte1b_exemplo03plus_skin_marks_pretrained.ipynb\" target=\"_parent\"><img src=\"https://colab.research.google.com/assets/colab-badge.svg\" alt=\"Open In Colab\"/></a>"
      ]
    },
    {
      "cell_type": "markdown",
      "metadata": {},
      "source": [
        "# Depois de correr este Notebook, ele vai pedir-lhe para carregar imagens de marcas de pele.\n",
        "## Se não tiver imagens de marcas de pele, pode usar as imagens de exemplo que estão no repositório.\n",
        "### Pasta \"exemplos_marcas_pele\" (contém 3 imagens de marcas de pele benignas e 3 imagens de marcas de pele malignas)"
      ]
    },
    {
      "cell_type": "code",
      "execution_count": null,
      "metadata": {
        "id": "8piFym1NDIWb"
      },
      "outputs": [],
      "source": [
        "import requests\n",
        "from tensorflow.keras.models import load_model\n",
        "from tensorflow.keras.preprocessing import image\n",
        "import numpy as np\n",
        "from google.colab import files\n",
        "import matplotlib.pyplot as plt\n"
      ]
    },
    {
      "cell_type": "code",
      "execution_count": null,
      "metadata": {
        "id": "Y3XnhlHEDJiL"
      },
      "outputs": [],
      "source": [
        "# URLs of the model parts on GitHub\n",
        "urls = [\n",
        "    \"https://github.com/luiscunhacsc/course_dl_pretrained_models/blob/main/best_skin_lesion_classifier.zip.001?raw=true\",\n",
        "    \"https://github.com/luiscunhacsc/course_dl_pretrained_models/blob/main/best_skin_lesion_classifier.zip.002?raw=true\",\n",
        "]\n",
        "\n",
        "# Download and combine the parts\n",
        "with open('combined_file.zip', 'wb') as output_file:\n",
        "    for url in urls:\n",
        "        response = requests.get(url, allow_redirects=True)\n",
        "        output_file.write(response.content)\n"
      ]
    },
    {
      "cell_type": "code",
      "execution_count": null,
      "metadata": {
        "colab": {
          "base_uri": "https://localhost:8080/"
        },
        "id": "ElnCtHyPDLx5",
        "outputId": "3d66dc66-ce97-4abc-86cb-8c38836aded0"
      },
      "outputs": [],
      "source": [
        "!unzip -q combined_file.zip\n",
        "!rm combined_file.zip\n"
      ]
    },
    {
      "cell_type": "code",
      "execution_count": null,
      "metadata": {
        "colab": {
          "base_uri": "https://localhost:8080/",
          "height": 921
        },
        "id": "mjOmQ0FgCMXD",
        "outputId": "0039326d-de38-471a-a588-d10a9c63b5bc"
      },
      "outputs": [],
      "source": [
        "from google.colab import files\n",
        "from tensorflow.keras.preprocessing.image import load_img\n",
        "from tensorflow.keras.preprocessing.image import img_to_array\n",
        "import numpy as np\n",
        "\n",
        "def load_image(filename):\n",
        "    img = load_img(filename, target_size=(224, 224))\n",
        "    img_tensor = img_to_array(img)  # Image data encoded as integers in the 0–255 range\n",
        "    img_tensor /= 255.  # Normalize to [0,1] for plt.imshow application\n",
        "    img_tensor = np.expand_dims(img_tensor, axis=0)  # A \"batch\" of one\n",
        "    return img_tensor\n",
        "\n",
        "def classify_image(model, img_tensor):\n",
        "    pred = model.predict(img_tensor)\n",
        "    return pred\n",
        "\n",
        "# Load best model\n",
        "best_model = load_model('best_skin_lesion_classifier.h5')\n",
        "\n",
        "print(\"Model loaded. Ready to accept images for classification.\")\n",
        "\n",
        "while True:\n",
        "    uploaded = files.upload()\n",
        "\n",
        "    for filename in uploaded.keys():\n",
        "      img_tensor = load_image(filename)\n",
        "      pred = classify_image(best_model, img_tensor)\n",
        "\n",
        "      if pred[0][0] < 0.5:\n",
        "          print(f'The image {filename} is classified as benign with {(1 - pred[0][0]) * 100:.2f}% confidence.')\n",
        "      else:\n",
        "          print(f'The image {filename} is classified as malignant with {pred[0][0] * 100:.2f}% confidence.')\n",
        "\n",
        "    cont = input(\"Do you want to continue? (Y/N): \")\n",
        "    if cont.upper() != \"Y\":\n",
        "        break\n"
      ]
    }
  ],
  "metadata": {
    "accelerator": "GPU",
    "colab": {
      "gpuType": "T4",
      "include_colab_link": true,
      "provenance": []
    },
    "kernelspec": {
      "display_name": "Python 3",
      "name": "python3"
    },
    "language_info": {
      "codemirror_mode": {
        "name": "ipython",
        "version": 3
      },
      "file_extension": ".py",
      "mimetype": "text/x-python",
      "name": "python",
      "nbconvert_exporter": "python",
      "pygments_lexer": "ipython3",
      "version": "3.10.1"
    },
    "orig_nbformat": 4
  },
  "nbformat": 4,
  "nbformat_minor": 0
}
