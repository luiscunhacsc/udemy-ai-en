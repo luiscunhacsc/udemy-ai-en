{
  "cells": [
    {
      "cell_type": "markdown",
      "metadata": {
        "colab_type": "text",
        "id": "view-in-github"
      },
      "source": [
        "<a href=\"https://colab.research.google.com/github/luiscunhacsc/udemy-ai-en/blob/main/part1b_vision/part1b_example01_fashion_mnist.ipynb\" target=\"_parent\"><img src=\"https://colab.research.google.com/assets/colab-badge.svg\" alt=\"Open In Colab\"/></a>"
      ]
    },
    {
      "cell_type": "code",
      "execution_count": null,
      "metadata": {
        "colab": {
          "base_uri": "https://localhost:8080/"
        },
        "id": "eitHS1BEHNsG",
        "outputId": "2395776a-5e84-4032-ebf5-789bccb25f87"
      },
      "outputs": [],
      "source": [
        "#Instalação de bibliotecas\n",
        "%pip install -q tensorflow keras numpy matplotlib\n"
      ]
    },
    {
      "cell_type": "markdown",
      "metadata": {
        "id": "AfW71O15X3gR"
      },
      "source": [
        "Com as bibliotecas instaladas, vamos importá-las."
      ]
    },
    {
      "cell_type": "code",
      "execution_count": null,
      "metadata": {
        "id": "uwN56Ba_X4s0"
      },
      "outputs": [],
      "source": [
        "#Importação de bibliotecas\n",
        "import tensorflow as tf\n",
        "from tensorflow import keras\n",
        "import numpy as np\n",
        "import matplotlib.pyplot as plt\n"
      ]
    },
    {
      "cell_type": "markdown",
      "metadata": {
        "id": "IsPj-7odYK-s"
      },
      "source": [
        "# Introdução ao conjunto de dados\n",
        "\n",
        "O conjunto de dados FashionMNIST é uma variante do conjunto de dados MNIST, que é frequentemente utilizado como o \"Hello, World!\" do Machine Learning. Em vez de dígitos escritos à mão, o FashionMNIST possui imagens em escala de cinza de 10 categorias de vestuário. Cada imagem tem uma resolução baixa (28 por 28 pixels). Vamos carregar o conjunto de dados e ver alguns exemplos.\n"
      ]
    },
    {
      "cell_type": "code",
      "execution_count": null,
      "metadata": {
        "colab": {
          "base_uri": "https://localhost:8080/",
          "height": 861
        },
        "id": "RdxViJqlYMau",
        "outputId": "43fd395a-f295-418e-8e9f-22d0abcb7269"
      },
      "outputs": [],
      "source": [
        "# Célula 4: Carregar o conjunto de dados\n",
        "from tensorflow.keras.datasets import fashion_mnist\n",
        "\n",
        "(train_images, train_labels), (test_images, test_labels) = fashion_mnist.load_data()\n",
        "\n",
        "# Mapeamento de labels para os nomes das classes\n",
        "class_names = ['T-shirt/top', 'Trouser', 'Pullover', 'Dress', 'Coat', 'Sandal', 'Shirt', 'Sneaker', 'Bag', 'Ankle boot']\n",
        "\n",
        "# Verificar o formato do conjunto de dados\n",
        "print(f\"Formato do conjunto de treino: {train_images.shape}, labels: {train_labels.shape}\")\n",
        "print(f\"Formato do conjunto de teste: {test_images.shape}, labels: {test_labels.shape}\")\n",
        "\n",
        "# Mostrar as primeiras 25 imagens do conjunto de treino\n",
        "plt.figure(figsize=(10,10))\n",
        "for i in range(25):\n",
        "    plt.subplot(5,5,i+1)\n",
        "    plt.xticks([])\n",
        "    plt.yticks([])\n",
        "    plt.grid(False)\n",
        "    plt.imshow(train_images[i], cmap=plt.cm.binary)\n",
        "    plt.xlabel(class_names[train_labels[i]])\n",
        "plt.show()\n",
        "\n"
      ]
    },
    {
      "cell_type": "markdown",
      "metadata": {
        "id": "q5oQ_YRNYdBB"
      },
      "source": [
        "# Introdução à construção do modelo\n",
        "Vamos agora criar a nossa rede neuronal convolucional (CNN). Uma CNN é composta por uma série de camadas de convolução e \"pooling\", seguidas por camadas densas que realizam a classificação final. Vamos usar a API funcional do Keras para construir o nosso modelo."
      ]
    },
    {
      "cell_type": "code",
      "execution_count": null,
      "metadata": {
        "colab": {
          "base_uri": "https://localhost:8080/"
        },
        "id": "MAQX_oBoYgBB",
        "outputId": "58f58ef9-6f44-4288-a063-20a15b885ca2"
      },
      "outputs": [],
      "source": [
        "#Construção do modelo\n",
        "\n",
        "from tensorflow.keras.layers import Input, Conv2D, MaxPooling2D, Flatten, Dense\n",
        "from tensorflow.keras.models import Model\n",
        "\n",
        "# Normalizar os dados\n",
        "train_images = train_images / 255.0\n",
        "test_images = test_images / 255.0\n",
        "\n",
        "# Remodelar as imagens para que elas tenham um único canal de cor\n",
        "train_images = train_images.reshape(-1, 28, 28, 1)\n",
        "test_images = test_images.reshape(-1, 28, 28, 1)\n",
        "\n",
        "# Configurar a entrada\n",
        "inputs = Input(shape=(28, 28, 1))\n",
        "\n",
        "# Primeira camada de convolução e \"pooling\"\n",
        "x = Conv2D(filters=32, kernel_size=(3, 3), activation='relu')(inputs)\n",
        "x = MaxPooling2D(pool_size=(2, 2))(x)\n",
        "\n",
        "# Segunda camada de convolução e \"pooling\"\n",
        "x = Conv2D(filters=64, kernel_size=(3, 3), activation='relu')(x)\n",
        "x = MaxPooling2D(pool_size=(2, 2))(x)\n",
        "\n",
        "# Achatamento da saída para alimentar as camadas densas\n",
        "x = Flatten()(x)\n",
        "\n",
        "# Camada densa e camada de saída\n",
        "x = Dense(128, activation='relu')(x)\n",
        "outputs = Dense(10, activation='softmax')(x)\n",
        "\n",
        "# Criar o modelo\n",
        "model = Model(inputs=inputs, outputs=outputs)\n",
        "\n",
        "# Mostrar o resumo do modelo\n",
        "model.summary()\n",
        "\n"
      ]
    },
    {
      "cell_type": "markdown",
      "metadata": {
        "id": "REOIhDfEY6ie"
      },
      "source": [
        "# Compilação do modelo\n",
        "\n",
        "Antes de treinarmos o modelo, precisamos de o compilar. Durante a compilação, definimos o otimizador que ajustará os pesos da rede durante o treino, a função de perda que será minimizada pelo otimizador, e as métricas que gostaríamos de rastrear durante o treino.\n"
      ]
    },
    {
      "cell_type": "code",
      "execution_count": null,
      "metadata": {
        "id": "yC7Dw8_5Y9I_"
      },
      "outputs": [],
      "source": [
        "#Compilação do modelo\n",
        "model.compile(optimizer='adam', loss='sparse_categorical_crossentropy', metrics=['accuracy'])\n"
      ]
    },
    {
      "cell_type": "markdown",
      "metadata": {
        "id": "5aYPcPQBZH_6"
      },
      "source": [
        "# Treino do modelo\n",
        "\n",
        "Vamos agora treinar o modelo. Durante o treino, o modelo irá iterar várias vezes (épocas) sobre o conjunto de treino e ajustar os pesos da rede para minimizar a função de perda. Depois de cada época, vamos validar o desempenho do modelo no conjunto de teste.\n"
      ]
    },
    {
      "cell_type": "code",
      "execution_count": null,
      "metadata": {
        "colab": {
          "base_uri": "https://localhost:8080/"
        },
        "id": "WVjq1dEeZKNv",
        "outputId": "00b5d566-b7f3-482b-b8a3-212decc7d94a"
      },
      "outputs": [],
      "source": [
        "#Treino do modelo\n",
        "history = model.fit(train_images, train_labels, epochs=10, validation_data=(test_images, test_labels))\n"
      ]
    },
    {
      "cell_type": "markdown",
      "metadata": {
        "id": "nq1v4oxYZe2g"
      },
      "source": []
    },
    {
      "cell_type": "markdown",
      "metadata": {
        "id": "4KReu8NZZjKK"
      },
      "source": [
        "# Visualização do desempenho do modelo\n",
        "\n",
        "Vamos agora visualizar o desempenho do nosso modelo ao longo do tempo durante o treino. Vamos criar gráficos para a precisão e a perda, tanto para o conjunto de treino como para o conjunto de teste.\n"
      ]
    },
    {
      "cell_type": "code",
      "execution_count": null,
      "metadata": {
        "colab": {
          "base_uri": "https://localhost:8080/",
          "height": 408
        },
        "id": "wQUEtDT4ZmxN",
        "outputId": "19001f59-fc3a-45a9-864a-3ce58fe064ad"
      },
      "outputs": [],
      "source": [
        "#Visualização do desempenho do modelo\n",
        "plt.figure(figsize=(12, 4))\n",
        "\n",
        "plt.subplot(1, 2, 1)\n",
        "plt.plot(history.history['accuracy'], label='Train Accuracy')\n",
        "plt.plot(history.history['val_accuracy'], label='Test Accuracy')\n",
        "plt.legend()\n",
        "plt.title('Accuracy evolution')\n",
        "\n",
        "plt.subplot(1, 2, 2)\n",
        "plt.plot(history.history['loss'], label='Train Loss')\n",
        "plt.plot(history.history['val_loss'], label='Test Loss')\n",
        "plt.legend()\n",
        "plt.title('Loss evolution')\n"
      ]
    }
  ],
  "metadata": {
    "accelerator": "GPU",
    "colab": {
      "gpuType": "T4",
      "include_colab_link": true,
      "provenance": []
    },
    "kernelspec": {
      "display_name": "Python 3",
      "name": "python3"
    },
    "language_info": {
      "name": "python"
    }
  },
  "nbformat": 4,
  "nbformat_minor": 0
}
